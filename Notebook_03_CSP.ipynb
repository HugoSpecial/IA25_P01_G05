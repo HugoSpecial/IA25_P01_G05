{
  "cells": [
    {
      "cell_type": "markdown",
      "metadata": {
        "id": "imwZr5D-v8WM"
      },
      "source": [
        "# Introduction to Constraint Satisfaction Problems (CSP)\n",
        "\n",
        "This Jupyter Notebook presents some simple examples of Constraint Satisfaction Problems (CSP) using the Constraint Library. Please check these links:\n",
        "* Constraint library [site](https://pypi.org/project/python-constraint/)\n",
        "* Constraint library [documentation](http://labix.org/doc/constraint/)"
      ]
    },
    {
      "cell_type": "code",
      "execution_count": null,
      "metadata": {
        "id": "sHTxpONGv8WN",
        "collapsed": true
      },
      "outputs": [],
      "source": [
        "# Install contraint library\n",
        "!pip install python-constraint"
      ]
    },
    {
      "cell_type": "code",
      "source": [
        "# Import contraint library\n",
        "from constraint import *"
      ],
      "metadata": {
        "id": "6JpT5wQHltBJ"
      },
      "execution_count": null,
      "outputs": []
    },
    {
      "cell_type": "markdown",
      "source": [
        "## Numbers\n"
      ],
      "metadata": {
        "id": "K_DO2u6Uko3j"
      }
    },
    {
      "cell_type": "code",
      "source": [
        "# instatiate the problem\n",
        "problem = Problem()\n",
        "\n",
        "# add variables\n",
        "problem.addVariable('x', [1,2,3])\n",
        "problem.addVariable('y', range(10))\n",
        "\n",
        "# define and add constraints\n",
        "def our_constraint(x, y):\n",
        "    if x + y >= 9:\n",
        "        return True\n",
        "\n",
        "problem.addConstraint(our_constraint, ['x','y'])\n",
        "\n",
        "# You can just get the first solution to be found\n",
        "# solution = problem.getSolution()\n",
        "# print(solution)\n",
        "\n",
        "\n",
        "# Get all the solutions.\n",
        "solutions = problem.getSolutions()\n",
        "\n",
        "# Easier way to print and see all solutions\n",
        "for solution in solutions:\n",
        "  print(solution)\n",
        "\n",
        "# Prettier way to print and see all solutions\n",
        "# length = len(solutions)\n",
        "# print(\"(x,y) ∈ {\", end=\"\")\n",
        "# for index, solution in enumerate(solutions):\n",
        "#     if index == length - 1:\n",
        "#         print(\"({},{})\".format(solution['x'], solution['y']), end=\"\")\n",
        "#     else:\n",
        "#         print(\"({},{}),\".format(solution['x'], solution['y']), end=\"\")\n",
        "# print(\"}\")"
      ],
      "metadata": {
        "id": "vPqXflPwksi_"
      },
      "execution_count": null,
      "outputs": []
    },
    {
      "cell_type": "markdown",
      "metadata": {
        "id": "1lnR4jZpv8WO"
      },
      "source": [
        "----\n",
        "## Zebra problem"
      ]
    },
    {
      "cell_type": "code",
      "source": [
        "# Solve Zebra\n",
        "z_problem = Problem()\n",
        "\n",
        "# variables\n",
        "Colors = 'Red Yellow Blue Green Ivory'.split()\n",
        "Pets = 'Dog Fox Snails Horse Zebra'.split()\n",
        "Drinks = 'OJ Tea Coffee Milk Water'.split()\n",
        "Countries = 'Englishman Spaniard Norwegian Ukranian Japanese'.split()\n",
        "Smokes = 'Kools Chesterfields Winston LuckyStrike Parliaments'.split()\n",
        "variables = set (Colors + Pets + Drinks + Countries + Smokes)\n",
        "\n",
        "for v in variables:\n",
        "  if v == 'Norwegian':\n",
        "    z_problem.addVariable(v, [1])\n",
        "  elif v == 'Milk':\n",
        "    z_problem.addVariable(v, [3])\n",
        "  else:\n",
        "    z_problem.addVariable(v, range(1,6))\n",
        "\n",
        "\n",
        "# Constraints\n",
        "z_problem.addConstraint(AllDifferentConstraint(), Colors)\n",
        "z_problem.addConstraint(AllDifferentConstraint(), Pets)\n",
        "z_problem.addConstraint(AllDifferentConstraint(), Drinks)\n",
        "z_problem.addConstraint(AllDifferentConstraint(), Countries)\n",
        "z_problem.addConstraint(AllDifferentConstraint(), Smokes)\n",
        "z_problem.addConstraint(lambda a, b: a == b, ('Englishman', 'Red'))\n",
        "z_problem.addConstraint(lambda a, b: a == b, ('Spaniard', 'Dog'))\n",
        "z_problem.addConstraint(lambda a, b: a == b, ('Kools', 'Yellow'))\n",
        "z_problem.addConstraint(lambda a, b: a == b, ('Winston', 'Snails'))\n",
        "z_problem.addConstraint(lambda a, b: a == b, ('LuckyStrike', 'OJ'))\n",
        "z_problem.addConstraint(lambda a, b: a == b, ('Ukranian', 'Tea'))\n",
        "z_problem.addConstraint(lambda a, b: a == b, ('Japanese', 'Parliaments'))\n",
        "z_problem.addConstraint(lambda a, b: a == b, ('Coffee', 'Green'))\n",
        "z_problem.addConstraint( lambda a, b: abs(a - b) == 1, ('Chesterfields', 'Fox'))\n",
        "z_problem.addConstraint(lambda a, b: abs(a - b) == 1, ('Norwegian', 'Blue'))\n",
        "z_problem.addConstraint(lambda a, b: abs(a - b) == 1, ('Kools', 'Horse'))\n",
        "z_problem.addConstraint(lambda a, b: b == a - 1, ('Green', 'Ivory'))\n",
        "\n",
        "\n",
        "# Apply solver\n",
        "z_solution = z_problem.getSolution()\n",
        "\n",
        "# Print result\n",
        "if z_solution:\n",
        "  for h in range(1, 6):\n",
        "          print('House', h, end=' ')\n",
        "          for (var, val) in z_solution.items():\n",
        "              if val == h:\n",
        "                  print(var, end=' ')\n",
        "          print()\n",
        "else:\n",
        "  print('No solution found')"
      ],
      "metadata": {
        "id": "8H2_2xXXrsGa"
      },
      "execution_count": null,
      "outputs": []
    },
    {
      "cell_type": "markdown",
      "metadata": {
        "id": "cbTS1xSWv8WO"
      },
      "source": [
        "----\n",
        "## Days too Short"
      ]
    },
    {
      "cell_type": "code",
      "execution_count": null,
      "metadata": {
        "id": "af5_Vadxv8WO"
      },
      "outputs": [],
      "source": [
        "# DAYS + TOO = SHORT\n",
        "\n",
        "# variables\n",
        "dts_vars_1 = 'D S T '.split()\n",
        "dts_vars_2 = 'A H O R Y'.split()\n",
        "dts_carry = 'C1 C2 C3 C4'.split()\n",
        "\n",
        "# problem init\n",
        "# dts_problem = Problem(BacktrackingSolver())\n",
        "# dts_problem = Problem(RecursiveBacktrackingSolver())\n",
        "# dts_problem = Problem(MinConflictsSolver())\n",
        "dts_problem = Problem()\n",
        "\n",
        "# domain\n",
        "dts_problem.addVariables(dts_vars_1, list(range(1, 10)))\n",
        "dts_problem.addVariables(dts_vars_2, list(range(0, 10)))\n",
        "dts_problem.addVariables(dts_carry, list(range(0, 2)))\n",
        "\n",
        "# Specific constraints\n",
        "\n",
        "# carry 01_04 constraint\n",
        "def const_c14(*values):\n",
        "    return values[0] + values[1] == values[2] + 10 * values[3]\n",
        "\n",
        "# carry 02 constraint\n",
        "def const_c23(*values):\n",
        "    return values[0] + values[1] + values[2] == values[3] + 10 * values[4]\n",
        "\n",
        "# constraints\n",
        "dts_problem.addConstraint(AllDifferentConstraint(), dts_vars_1 + dts_vars_2)\n",
        "dts_problem.addConstraint(FunctionConstraint(const_c14), ['S', 'O', 'T', 'C1'])\n",
        "dts_problem.addConstraint(FunctionConstraint(const_c14), ['C3', 'D', 'H', 'C4'])\n",
        "dts_problem.addConstraint(FunctionConstraint(const_c23), ['C1', 'Y', 'O', 'R', 'C2'])\n",
        "dts_problem.addConstraint(FunctionConstraint(const_c23), ['C2', 'A', 'T', 'O', 'C3'])\n",
        "dts_problem.addConstraint(AllEqualConstraint(), ['S', 'C4'])\n",
        "\n",
        "# Result - just one solution\n",
        "soln_dts = dts_problem.getSolution()\n",
        "\n",
        "# Print result\n",
        "if soln_dts:\n",
        "    print('Days:   ',end=' ')\n",
        "    for var in 'D A Y S'.split():\n",
        "        print(soln_dts[var], end=' ')\n",
        "    print()\n",
        "    print('Too:      ',end=' ')\n",
        "    for var in 'T O O'.split():\n",
        "        print(soln_dts[var], end=' ')\n",
        "    print('\\n       ---------')\n",
        "    print('Short:',end=' ')\n",
        "    for var in 'S H O R T'.split():\n",
        "        print(soln_dts[var], end=' ')\n",
        "    print()"
      ]
    },
    {
      "cell_type": "markdown",
      "source": [
        "---\n",
        "## Exercise\n",
        "Adapt the previous example \"DAYS + TOO = SHORT\" to solve the \"TWO + TWO = FOUR\" cryptarithmetic problem."
      ],
      "metadata": {
        "id": "ZSYnvQ5dpYE5"
      }
    },
    {
      "cell_type": "code",
      "source": [],
      "metadata": {
        "id": "0JvQarYAp9Qq"
      },
      "execution_count": null,
      "outputs": []
    }
  ],
  "metadata": {
    "kernelspec": {
      "display_name": "Python 3",
      "language": "python",
      "name": "python3"
    },
    "language_info": {
      "codemirror_mode": {
        "name": "ipython",
        "version": 3
      },
      "file_extension": ".py",
      "mimetype": "text/x-python",
      "name": "python",
      "nbconvert_exporter": "python",
      "pygments_lexer": "ipython3",
      "version": "3.10.7"
    },
    "colab": {
      "provenance": []
    }
  },
  "nbformat": 4,
  "nbformat_minor": 0
}