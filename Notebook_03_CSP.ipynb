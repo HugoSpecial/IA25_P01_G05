{
  "cells": [
    {
      "cell_type": "markdown",
      "metadata": {
        "id": "imwZr5D-v8WM"
      },
      "source": [
        "# Introdução\n",
        "## Contexto do projeto\n",
        "Todos os anos letivos, a equipa administrativa do **IPCA** enfrenta dificuldades na criação dos horários das aulas.  \n",
        "É necessário garantir que todas as restrições relacionadas com **professores, cursos, salas e disponibilidade** sejam cumpridas, o que torna o processo demorado e complexo.\n",
        "\n",
        "Este projeto tem como objetivo desenvolver uma **ferramenta automática de geração de horários** para os cursos de licenciatura, facilitando o trabalho administrativo e garantindo horários equilibrados e eficientes.\n",
        "\n",
        "## Objetivo do projeto\n",
        "O principal objetivo do projeto é criar um sistema que produza horários válidos e otimizados, tendo em conta um conjunto de ***hard constraints*** e ***soft constraints***.\n",
        "\n",
        "## Equipa de Desenvolvimento\n",
        "- Duarte Pereira — Nº 27959\n",
        "- Hugo Especial — Nº 27963\n",
        "- Paulo Gonçalves — Nº 27966 \n",
        "- Marco Cardoso — Nº 27969 \n",
        "- Hugo Pereira — Nº 27970"
      ]
    },
    {
      "cell_type": "markdown",
      "metadata": {
        "collapsed": true,
        "id": "sHTxpONGv8WN"
      },
      "source": [
        "# *Design* do agente\n",
        "\n",
        "## Formulação do problema como um Problema de Satisfação de Restrições (*Constraint Satisfaction Problem*)\n",
        "Formular um problema de CSP exige identificar claramente três elementos:\n",
        "- Variáveis, domínios e restrições.\n",
        "\n",
        "E o objetivo é encontrar uma atribuição de valores que satisfaça todas as restrições.\n",
        "\n",
        "## Definição de variáveis, domínio e restrições\n",
        "Variáveis:\n",
        "$X = \\{ Aula_1, Aula_2, \\ldots, Aula_i \\}$\n",
        "\n",
        "Domínio:  \n",
        "$D = \\{ (Sala, Dia, Hora, Professor, Turma, Unidade\\ Curricular) \\}$\n",
        "\n",
        "Restrições:  \n",
        "$C = \\{ \\}$\n",
        "## Funções heurísticas para implementar as *soft constraints*"
      ]
    }
  ],
  "metadata": {
    "colab": {
      "provenance": []
    },
    "kernelspec": {
      "display_name": "Python 3",
      "language": "python",
      "name": "python3"
    },
    "language_info": {
      "codemirror_mode": {
        "name": "ipython",
        "version": 3
      },
      "file_extension": ".py",
      "mimetype": "text/x-python",
      "name": "python",
      "nbconvert_exporter": "python",
      "pygments_lexer": "ipython3",
      "version": "3.10.7"
    }
  },
  "nbformat": 4,
  "nbformat_minor": 0
}
